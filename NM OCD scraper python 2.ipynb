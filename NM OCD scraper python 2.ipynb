{
 "cells": [
  {
   "cell_type": "code",
   "execution_count": 1,
   "metadata": {
    "collapsed": true
   },
   "outputs": [],
   "source": [
    "import requests, bs4, time, os, re, random\n",
    "import numpy as np\n",
    "from nltk.tokenize import word_tokenize\n",
    "from nltk.corpus import stopwords\n",
    "from autocorrect import spell\n",
    "from sklearn.feature_extraction.text import CountVectorizer\n",
    "from sklearn.feature_extraction.text import TfidfTransformer\n",
    "#so many imports"
   ]
  },
  {
   "cell_type": "code",
   "execution_count": 2,
   "metadata": {
    "collapsed": true
   },
   "outputs": [],
   "source": [
    "well_api_number=[30015215980000,30015256300000] #api numbers of the wells you want to download\n",
    "where_I_want_the_files=r'D:/NM logs/' #change this line to your file path"
   ]
  },
  {
   "cell_type": "code",
   "execution_count": null,
   "metadata": {
    "collapsed": false
   },
   "outputs": [],
   "source": [
    "#this cell is the portion that downloads the files from the website\n",
    "#the section that needs to be changed is the variable newpath. Change it to wherever you want the documents saved on your drive\n",
    "number_of_files=[]\n",
    "for well in well_api_number:\n",
    "    newpath = ((r'D:/NM logs/%s') % (well)) #change this line to your file path\n",
    "    if not os.path.exists(newpath): os.makedirs(newpath) #check to see if the path exists, if not it creates it\n",
    "    response1 = requests.get('http://ocdimage.emnrd.state.nm.us/imaging/WellFileView.aspx?RefType=WF&RefID='+str(well)) #scrapes the individual well docs page\n",
    "    soup2=bs4.BeautifulSoup(response1.text, \"lxml\") #website response as text data\n",
    "    links=[] \n",
    "    for a in soup2.find_all('a', href=True): #scrape all the links from the page and add to a list\n",
    "        links.append(a['href'])\n",
    "    links=links[8:-3]\n",
    "    number_of_files.append(len(links)) #a count of the number of files being downloaded\n",
    "    for i in range(len(links)-1): #the actual portion that opens the links and saves the documents as pdf\n",
    "        try:\n",
    "            r=requests.get(links[i])\n",
    "            with open(str(where_I_want_the_files)+str(well)+'/file'+str(i)+'.pdf',\"wb\") as pdf: #change this line to whatever your path is \n",
    "                for chunk in r.iter_content(chunk_size=1024):\n",
    "                    if chunk:\n",
    "                        pdf.write(chunk)\n",
    "        \n",
    "        except:\n",
    "            pass"
   ]
  },
  {
   "cell_type": "code",
   "execution_count": null,
   "metadata": {
    "collapsed": false
   },
   "outputs": [],
   "source": [
    "from __future__ import print_function\n",
    "from wand.image import Image\n",
    "#more imports that are only used in this cell\n",
    "#this cell converts the pdf files into jpeg files and places them in a folder called images within your dir\n",
    "\n",
    "for well in range(len(well_api_number)):\n",
    "    Path = str(where_I_want_the_files)+str(well_api_number[well])\n",
    "    number_of_files = len(os.listdir(Path)) #counts number of pdf files to process\n",
    "    for items in range(number_of_files-1):\n",
    "        newpath = (str(where_I_want_the_files)+str(well_api_number[well])+'/images') \n",
    "        if not os.path.exists(newpath): os.makedirs(newpath)\n",
    "        with Image(filename=str(where_I_want_the_files)+str(well_api_number[well])+'/file'+str(items)+'.pdf', resolution=600) as img:\n",
    "            #print('pages = ', len(img.sequence))\n",
    "            with img.convert('jpg') as converted:\n",
    "                converted.save(filename='D:/NM logs/'+str(well_api_number[well])+'/images/page-'+str(items)+'.jpg') #saves the images"
   ]
  },
  {
   "cell_type": "code",
   "execution_count": null,
   "metadata": {
    "collapsed": false
   },
   "outputs": [],
   "source": [
    "import pytesseract\n",
    "from pytesseract import image_to_string\n",
    "from ipywidgets import FloatProgress\n",
    "from IPython.display import display\n",
    "#more imports used in this cell only\n",
    "\n",
    "f = FloatProgress(min=0, max=100)\n",
    "display(f)\n",
    "#because progress bars are nice\n",
    "\n",
    "tessdata_dir_config = '--tessdata-dir \"C:\\\\Program Files (x86)\\\\Tesseract-OCR\\\\tessdata\"' #pytesseract is a pain, find these folders\n",
    "pytesseract.pytesseract.tesseract_cmd = 'C:\\\\Program Files (x86)\\\\Tesseract-OCR\\\\tesseract.exe' #set these values equal to the path with these folders\n",
    "\n",
    "wellDocument=[]\n",
    "documents=[]\n",
    "from PIL import Image\n",
    "#one last import of PIL\n",
    "\n",
    "for well in range(len(well_api_number)):\n",
    "    documents=[]\n",
    "    Path = str(where_I_want_the_files)+str(well_api_number[well])+'\\\\images'\n",
    "    number_of_files = len(os.listdir(Path))\n",
    "\n",
    "    for items in range(number_of_files-1):\n",
    "        f.value += 1\n",
    "\n",
    "        try:\n",
    "            im=Image.open(str(where_I_want_the_files)+str(well_api_number[well])+'\\\\images\\\\page-'+str(items)+'.jpg', 'r') #open image\n",
    "            text=image_to_string(im, config=tessdata_dir_config) #run OCR on the image\n",
    "            documents.append(text) #append the text to a list\n",
    "        except:\n",
    "            try:\n",
    "                for i in range(10): #because of naming conventions this section is needed\n",
    "                    im=Image.open(str(where_I_want_the_files)+str(well_api_number[well])+'\\\\images\\\\page-'+str(items)+'-'+str(i)+'.jpg', 'r')\n",
    "                    text=image_to_string(im, config=tessdata_dir_config)\n",
    "                    documents.append(text)\n",
    "            except:\n",
    "                pass\n",
    "    wellDocument.append(documents)    "
   ]
  },
  {
   "cell_type": "code",
   "execution_count": null,
   "metadata": {
    "collapsed": false
   },
   "outputs": [],
   "source": [
    "documents=wellDocument[0] #here we are only interested in classifying one well so we select the first wells doc data\n",
    "\n",
    "f = FloatProgress(min=0, max=100)\n",
    "display(f)\n",
    "punctuations = ['(',')',';',':','[',']',',', '.', '_', '~', '...', '\\\\', '/'] #if you find more weird characters to munge add them\n",
    "stop_words = stopwords.words('english')\n",
    "\n",
    "autocorrectWords=[]\n",
    "mungedDocuments=[]\n",
    "\n",
    "\n",
    "for j in range(len(wellDocument[0])): #time to munge the text data\n",
    "    f.value += 1\n",
    "    autocorrectWords=[]\n",
    "    tokenWords=word_tokenize(documents[j])  #tokenize each document in the document array\n",
    "    keywordsDocuments = [word for word in tokenWords if not word in stop_words and  not word in punctuations] #extract keywords and remove stop words and punctuation\n",
    "    for i in range(len(keywordsDocuments)): #take keywords and run them through an autocorrect method\n",
    "        autocorrectWords.append(spell(keywordsDocuments[i])) #add the respelled words to a new array\n",
    "    bitClean=' '.join(autocorrectWords) #turn the array back into a string\n",
    "    ready=''.join([i if ord(i) < 128 else ' ' for i in bitClean]) #get rid of non unicode characters\n",
    "    uniEncodedWords=ready.encode('UTF-8') #encode to bytes\n",
    "    mungedDocuments.append(uniEncodedWords) #add document keywords to a new array now that they are clean and spelled correctly\n",
    "#the documents you want are now assigned to the var mungedDocuments"
   ]
  },
  {
   "cell_type": "markdown",
   "metadata": {},
   "source": [
    "We have munged the data, now let's build some training data for classification"
   ]
  },
  {
   "cell_type": "code",
   "execution_count": 113,
   "metadata": {
    "collapsed": false
   },
   "outputs": [],
   "source": [
    "lines=[]\n",
    "Path = \"D:\\\\NM logs\\\\training\\\\\" #I have included all the .txt files in the repository, direct this path to the training folder\n",
    "filelist = os.listdir(Path)\n",
    "for i in filelist: #opens all the text files and adds them to the lines array\n",
    "    if i.endswith(\".txt\"):  \n",
    "        with open(Path + i, 'r') as f:\n",
    "            lines.append(f.read().splitlines())\n",
    "\n",
    "formNames = ['.'.join(x.split('.')[:-1]) for x in os.listdir(Path) if os.path.isfile(os.path.join(Path, x))] #this is a list of the form names used to name files later on"
   ]
  },
  {
   "cell_type": "code",
   "execution_count": 114,
   "metadata": {
    "collapsed": false
   },
   "outputs": [],
   "source": [
    "all_keys=[]\n",
    "clean=[]\n",
    "\n",
    "for k in range(len(lines)): #similar to what we did for the OCR documents, munging, tokenizing, and keywords for training\n",
    "    str1 =' '.join(lines[k])\n",
    "    clean=''.join([i if ord(i) < 128 else ' ' for i in str1])\n",
    "    clean=re.sub(\"_\", \"\", clean)\n",
    "    tokens=word_tokenize(clean)\n",
    "    keywords = [word for word in tokens if not word in stop_words and  not word in punctuations]\n",
    "    all_keys.append(keywords)\n"
   ]
  },
  {
   "cell_type": "code",
   "execution_count": 115,
   "metadata": {
    "collapsed": false
   },
   "outputs": [],
   "source": [
    "'''\n",
    "This section builds a training set from blank forms downloaded from the OCD website. Because it would take a lot of time to\n",
    "build a training set by hand and because I am lazy and not getting paid for this, we are making a larger training set from\n",
    "a sparse dataset. What this cell does is it takes the text from the forms and randomly selects 75% of the words on each iteration\n",
    "and makes that a training example. A better option would be to classify a few hundred OCR documents by hand and use that in \n",
    "addition, but again, I'm lazy and this is more a proof of concept.\n",
    "'''\n",
    "Y_train=[]\n",
    "training_samples=[]\n",
    "for j in range(len(all_keys)):\n",
    "    for i in range(75):\n",
    "        training_samples.append(\" \".join(random.sample(all_keys[j],int(np.round(len(all_keys[j])*.75)))))\n",
    "    Y_train.append(np.full(75,j))"
   ]
  },
  {
   "cell_type": "code",
   "execution_count": 116,
   "metadata": {
    "collapsed": false
   },
   "outputs": [
    {
     "data": {
      "text/plain": [
       "(3450, 1961)"
      ]
     },
     "execution_count": 116,
     "metadata": {},
     "output_type": "execute_result"
    }
   ],
   "source": [
    "#Take word counts of the training data and convert it into a large vector\n",
    "count_vect = CountVectorizer()\n",
    "X_train_counts = count_vect.fit_transform(training_samples)\n",
    "X_train_counts.shape"
   ]
  },
  {
   "cell_type": "code",
   "execution_count": 117,
   "metadata": {
    "collapsed": false
   },
   "outputs": [
    {
     "data": {
      "text/plain": [
       "(3450, 1961)"
      ]
     },
     "execution_count": 117,
     "metadata": {},
     "output_type": "execute_result"
    }
   ],
   "source": [
    "#transform the training counts\n",
    "tfidf_transformer = TfidfTransformer()\n",
    "X_train_tfidf = tfidf_transformer.fit_transform(X_train_counts)\n",
    "X_train_tfidf.shape"
   ]
  },
  {
   "cell_type": "code",
   "execution_count": 118,
   "metadata": {
    "collapsed": false
   },
   "outputs": [],
   "source": [
    "#these are the classes generated for the training data\n",
    "Y_train=np.asarray(Y_train).flatten()"
   ]
  },
  {
   "cell_type": "code",
   "execution_count": 119,
   "metadata": {
    "collapsed": false
   },
   "outputs": [],
   "source": [
    "from sklearn.naive_bayes import MultinomialNB\n",
    "clf = MultinomialNB().fit(X_train_tfidf, Y_train) #train the model"
   ]
  },
  {
   "cell_type": "code",
   "execution_count": 120,
   "metadata": {
    "collapsed": true
   },
   "outputs": [],
   "source": [
    "X_new_counts = count_vect.transform(mungedDocuments) #test data word counts\n",
    "X_new_tfidf = tfidf_transformer.transform(X_new_counts) #test data word counts transformed\n",
    "predicted = clf.predict(X_new_tfidf) #predictions for classes of each document"
   ]
  },
  {
   "cell_type": "code",
   "execution_count": 121,
   "metadata": {
    "collapsed": false
   },
   "outputs": [],
   "source": [
    "#now comes the fun part of renaming the image files\n",
    "#this cell takes the classes for each image and renames each image according to the predicted class\n",
    "\n",
    "imagesPath=str(where_I_want_the_files)+str(well_api_number[0])+'/images'\n",
    "files = os.listdir(imagesPath)\n",
    "i = 0\n",
    "\n",
    "for file in files:\n",
    "    try:\n",
    "        os.rename(os.path.join(imagesPath, file), os.path.join(imagesPath, formNames[predicted[i]]+'.jpg'))\n",
    "    except:\n",
    "        try:\n",
    "            os.rename(os.path.join(imagesPath, file), os.path.join(imagesPath, formNames[predicted[i]]+' ('+str(i)+').jpg'))\n",
    "        except:\n",
    "            pass\n",
    "\n",
    "        \n",
    "    i+=1"
   ]
  },
  {
   "cell_type": "markdown",
   "metadata": {},
   "source": [
    "This section looks at classification accuracy on the training data"
   ]
  },
  {
   "cell_type": "code",
   "execution_count": 204,
   "metadata": {
    "collapsed": false
   },
   "outputs": [],
   "source": [
    "#build a test set\n",
    "f = FloatProgress(min=0, max=100)\n",
    "display(f)\n",
    "run=[]\n",
    "\n",
    "for k in np.arange(0,1.0,.01): #k controls the percentage of words taken for each iteration in training\n",
    "    Y_test=[]\n",
    "    testing_samples=[]\n",
    "    f.value +=1\n",
    "    for j in range(len(all_keys)):\n",
    "        for i in range(10):\n",
    "            testing_samples.append(\" \".join(random.sample(all_keys[j],int(np.round(len(all_keys[j])*k)))))\n",
    "        Y_test.append(np.full(10,j))\n",
    "    X_test_counts = count_vect.transform(testing_samples)\n",
    "    X_test_tfidf = tfidf_transformer.transform(X_test_counts)\n",
    "    predicted = clf.predict(X_test_tfidf)\n",
    "    Y_test_target=np.asarray(Y_test).flatten()\n",
    "    run.append(np.mean(predicted == Y_test_target))"
   ]
  },
  {
   "cell_type": "code",
   "execution_count": 205,
   "metadata": {
    "collapsed": false
   },
   "outputs": [
    {
     "data": {
      "text/plain": [
       "[<matplotlib.lines.Line2D at 0x28ca5e80>]"
      ]
     },
     "execution_count": 205,
     "metadata": {},
     "output_type": "execute_result"
    },
    {
     "data": {
      "image/png": "[encoded data removed]",
      "text/plain": [
       "<matplotlib.figure.Figure at 0x23e08f98>"
      ]
     },
     "metadata": {},
     "output_type": "display_data"
    }
   ],
   "source": [
    "import matplotlib.pyplot as plt\n",
    "%matplotlib inline\n",
    "plt.plot(run)"
   ]
  },
  {
   "cell_type": "code",
   "execution_count": 201,
   "metadata": {
    "collapsed": false
   },
   "outputs": [
    {
     "name": "stdout",
     "output_type": "stream",
     "text": [
      "             precision    recall  f1-score   support\n",
      "\n",
      "          0       1.00      1.00      1.00        50\n",
      "          1       1.00      1.00      1.00        50\n",
      "          2       1.00      1.00      1.00        50\n",
      "          3       1.00      1.00      1.00        50\n",
      "          4       1.00      1.00      1.00        50\n",
      "          5       1.00      1.00      1.00        50\n",
      "          6       1.00      1.00      1.00        50\n",
      "          7       1.00      1.00      1.00        50\n",
      "          8       1.00      1.00      1.00        50\n",
      "          9       1.00      1.00      1.00        50\n",
      "         10       1.00      1.00      1.00        50\n",
      "         11       1.00      0.98      0.99        50\n",
      "         12       0.73      0.54      0.62        50\n",
      "         13       0.64      0.72      0.68        50\n",
      "         14       1.00      0.96      0.98        50\n",
      "         15       0.60      0.82      0.69        50\n",
      "         16       0.76      0.64      0.70        50\n",
      "         17       1.00      1.00      1.00        50\n",
      "         18       1.00      1.00      1.00        50\n",
      "         19       1.00      1.00      1.00        50\n",
      "         20       1.00      1.00      1.00        50\n",
      "         21       0.98      1.00      0.99        50\n",
      "         22       1.00      1.00      1.00        50\n",
      "         23       1.00      1.00      1.00        50\n",
      "         24       1.00      1.00      1.00        50\n",
      "         25       1.00      1.00      1.00        50\n",
      "         26       1.00      1.00      1.00        50\n",
      "         27       1.00      1.00      1.00        50\n",
      "         28       0.97      0.74      0.84        50\n",
      "         29       0.80      0.98      0.88        50\n",
      "         30       1.00      1.00      1.00        50\n",
      "         31       1.00      1.00      1.00        50\n",
      "         32       1.00      1.00      1.00        50\n",
      "         33       1.00      1.00      1.00        50\n",
      "         34       1.00      1.00      1.00        50\n",
      "         35       1.00      1.00      1.00        50\n",
      "         36       1.00      1.00      1.00        50\n",
      "         37       1.00      1.00      1.00        50\n",
      "         38       1.00      1.00      1.00        50\n",
      "         39       1.00      1.00      1.00        50\n",
      "         40       1.00      1.00      1.00        50\n",
      "         41       1.00      1.00      1.00        50\n",
      "         42       1.00      1.00      1.00        50\n",
      "         43       1.00      1.00      1.00        50\n",
      "         44       1.00      1.00      1.00        50\n",
      "         45       1.00      1.00      1.00        50\n",
      "\n",
      "avg / total       0.97      0.96      0.96      2300\n",
      "\n"
     ]
    }
   ],
   "source": [
    "from sklearn import metrics\n",
    "print(metrics.classification_report(Y_test_target, predicted))"
   ]
  },
  {
   "cell_type": "code",
   "execution_count": null,
   "metadata": {
    "collapsed": true
   },
   "outputs": [],
   "source": []
  }
 ],
 "metadata": {
  "anaconda-cloud": {},
  "kernelspec": {
   "display_name": "Python [conda root]",
   "language": "python",
   "name": "conda-root-py"
  },
  "language_info": {
   "codemirror_mode": {
    "name": "ipython",
    "version": 2
   },
   "file_extension": ".py",
   "mimetype": "text/x-python",
   "name": "python",
   "nbconvert_exporter": "python",
   "pygments_lexer": "ipython2",
   "version": "2.7.12"
  }
 },
 "nbformat": 4,
 "nbformat_minor": 2
}
